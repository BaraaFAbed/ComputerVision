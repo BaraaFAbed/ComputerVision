{
 "cells": [
  {
   "cell_type": "code",
   "execution_count": 8,
   "id": "701d02eb-9f55-4801-b6e1-ed9ca1719fcb",
   "metadata": {},
   "outputs": [],
   "source": [
    "# Imports\n",
    "import torch\n",
    "import numpy as np\n",
    "from torch import nn\n",
    "from torch import optim\n",
    "import matplotlib.pyplot as plt"
   ]
  },
  {
   "cell_type": "code",
   "execution_count": 3,
   "id": "a07fac5b-42c8-4ba9-94bb-e653007faaa4",
   "metadata": {},
   "outputs": [
    {
     "name": "stdout",
     "output_type": "stream",
     "text": [
      "torch.int64\n",
      "torch.float16\n",
      "tensor([[1, 1]])\n"
     ]
    }
   ],
   "source": [
    "a = np.array([[1,2],[3,4]])\n",
    "t1 = torch.tensor(a)\n",
    "t2 = torch.from_numpy(a)\n",
    "t3 = torch.tensor([[1,2]])\n",
    "print(t3.dtype)\n",
    "t4 = torch.tensor([[2,3]], dtype=torch.float16)\n",
    "print(t4.dtype)\n",
    "\n",
    "t5 = torch.ones_like(t3)\n",
    "print(t5)"
   ]
  },
  {
   "cell_type": "code",
   "execution_count": 4,
   "id": "5e963191-a336-4c5a-ad1a-261d2fe66bbd",
   "metadata": {},
   "outputs": [
    {
     "name": "stdout",
     "output_type": "stream",
     "text": [
      "tensor([7.])\n"
     ]
    }
   ],
   "source": [
    "x = torch.tensor([2.0], requires_grad=True)\n",
    "\n",
    "y = x**2 + 3*x + 1\n",
    "y.backward()\n",
    "print(x.grad)"
   ]
  },
  {
   "cell_type": "code",
   "execution_count": 6,
   "id": "1a5f4d40-61b1-430d-b997-4a0abad1cf00",
   "metadata": {},
   "outputs": [
    {
     "name": "stdout",
     "output_type": "stream",
     "text": [
      "Forward pass, h= 3.0\n",
      "Backward pass, Derivatives= tensor([ 4., 16., -8.])\n",
      "Weights update, w = tensor([-1., -7.,  5.], grad_fn=<SubBackward0>)\n"
     ]
    }
   ],
   "source": [
    "x = torch.tensor([1., 4., -2.])\n",
    "y = torch.tensor([1.])\n",
    "w = torch.tensor([1., 1., 1.], requires_grad=True)\n",
    "h = torch.matmul(w,x)\n",
    "print(f'Forward pass, h= {h}')\n",
    "J = (h-y)**2\n",
    "J.backward()\n",
    "print(f'Backward pass, Derivatives= {w.grad}')\n",
    "w = w - 0.5*w.grad\n",
    "print(f'Weights update, w = {w}')"
   ]
  },
  {
   "cell_type": "code",
   "execution_count": 12,
   "id": "e1ac555d-f04e-40a7-b2fd-9ec3f84c9e78",
   "metadata": {},
   "outputs": [
    {
     "name": "stdout",
     "output_type": "stream",
     "text": [
      "Forward Pass, h= Linear(in_features=2, out_features=1, bias=True)\n",
      "Backward pass, Derivatives= tensor([[4.]]) tensor([[16., -8.]])\n",
      "Weight update, w= [[-1.]] [[-7.  5.]]\n"
     ]
    }
   ],
   "source": [
    "x = torch.tensor([[4., -2.]])\n",
    "y = torch.tensor([[1.]])\n",
    "h = nn.Linear(2,1, bias=True)\n",
    "h.weight = nn.Parameter(torch.tensor([[1., 1.]]))\n",
    "h.bias = nn.Parameter(torch.tensor([[1.]]))\n",
    "\n",
    "optimizer = optim.SGD(h.parameters(), lr= 0.5)\n",
    "Cost = nn.MSELoss()\n",
    "\n",
    "optimizer.zero_grad()\n",
    "out = h(x)\n",
    "print(f'Forward Pass, h= {h}')\n",
    "loss = Cost(out, y)\n",
    "loss.backward()\n",
    "print(f'Backward pass, Derivatives= {h.bias.grad} {h.weight.grad}')\n",
    "optimizer.step()\n",
    "print(f'Weight update, w= {h.bias.detach().numpy()} {h.weight.detach().numpy()}')"
   ]
  }
 ],
 "metadata": {
  "kernelspec": {
   "display_name": "Python 3 (ipykernel)",
   "language": "python",
   "name": "python3"
  },
  "language_info": {
   "codemirror_mode": {
    "name": "ipython",
    "version": 3
   },
   "file_extension": ".py",
   "mimetype": "text/x-python",
   "name": "python",
   "nbconvert_exporter": "python",
   "pygments_lexer": "ipython3",
   "version": "3.9.18"
  }
 },
 "nbformat": 4,
 "nbformat_minor": 5
}
